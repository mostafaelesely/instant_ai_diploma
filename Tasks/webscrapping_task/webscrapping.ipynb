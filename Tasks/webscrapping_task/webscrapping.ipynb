{
  "nbformat": 4,
  "nbformat_minor": 0,
  "metadata": {
    "colab": {
      "provenance": []
    },
    "kernelspec": {
      "name": "python3",
      "display_name": "Python 3"
    },
    "language_info": {
      "name": "python"
    }
  },
  "cells": [
    {
      "cell_type": "code",
      "execution_count": 1,
      "metadata": {
        "id": "bpULbjLJozdV"
      },
      "outputs": [],
      "source": [
        "from bs4 import BeautifulSoup\n",
        "import requests\n"
      ]
    },
    {
      "cell_type": "code",
      "source": [
        "website=\"https://wuzzuf.net/search/jobs/?q=ai&a=hpb\""
      ],
      "metadata": {
        "id": "32jre0oK_-D5"
      },
      "execution_count": 2,
      "outputs": []
    },
    {
      "cell_type": "code",
      "source": [
        "requests.get(website)"
      ],
      "metadata": {
        "colab": {
          "base_uri": "https://localhost:8080/"
        },
        "id": "Gr5WToBZAAA1",
        "outputId": "6458f853-eadb-4a8a-8850-105bab0199c9"
      },
      "execution_count": 3,
      "outputs": [
        {
          "output_type": "execute_result",
          "data": {
            "text/plain": [
              "<Response [200]>"
            ]
          },
          "metadata": {},
          "execution_count": 3
        }
      ]
    },
    {
      "cell_type": "code",
      "source": [
        "website=requests.get(website).text\n",
        "print(website)"
      ],
      "metadata": {
        "id": "Nl-gEzksACV4"
      },
      "execution_count": null,
      "outputs": []
    },
    {
      "cell_type": "code",
      "source": [
        "website=BeautifulSoup(website,\"lxml\")\n",
        "type(website)\n"
      ],
      "metadata": {
        "colab": {
          "base_uri": "https://localhost:8080/"
        },
        "id": "ih6WQEXlAHK0",
        "outputId": "ff35dd58-777e-470d-a4d8-aee365ee62ac"
      },
      "execution_count": 5,
      "outputs": [
        {
          "output_type": "execute_result",
          "data": {
            "text/plain": [
              "bs4.BeautifulSoup"
            ]
          },
          "metadata": {},
          "execution_count": 5
        }
      ]
    },
    {
      "cell_type": "code",
      "source": [
        "table = website.find(\"div\", class_=\"css-1gatmva e1v1l3u10\")\n",
        "table"
      ],
      "metadata": {
        "colab": {
          "base_uri": "https://localhost:8080/"
        },
        "id": "ceuuXRt4AJLA",
        "outputId": "f7ca9b1e-2c0d-43ac-ed82-f96b530aa5ef"
      },
      "execution_count": 6,
      "outputs": [
        {
          "output_type": "execute_result",
          "data": {
            "text/plain": [
              "<div class=\"css-1gatmva e1v1l3u10\"><style data-emotion=\"css pkv5jc\">.css-pkv5jc{position:relative;min-height:60px;}</style><div class=\"css-pkv5jc\"><a href=\"https://wuzzuf.net/jobs/careers/Scopic Software-Egypt-101246\" rel=\"noreferrer\" target=\"_blank\"><style data-emotion=\"css 17095x3\">.css-17095x3{position:absolute;right:0;top:0;width:60px;height:60px;object-fit:contain;object-position:center center;}</style></a><style data-emotion=\"css laomuu\">.css-laomuu{padding-right:60px;}</style><div class=\"css-laomuu\"><style data-emotion=\"css m604qf\">.css-m604qf{font-size:16px;font-weight:600;font-style:normal;letter-spacing:-0.4px;line-height:24px;color:#0055D9;margin:0;}</style><h2 class=\"css-m604qf\"><style data-emotion=\"css o171kl\">.css-o171kl{-webkit-text-decoration:none;text-decoration:none;color:inherit;}</style><a class=\"css-o171kl\" href=\"https://wuzzuf.net/jobs/p/g/VZ0IBLJ8KXEz-Remote-Machine-LearningAI-Developer-Scopic-Software-Cairo-Egypt\" rel=\"noreferrer\" target=\"_blank\">Remote Machine Learning/AI Developer</a></h2><style data-emotion=\"css d7j1kk\">.css-d7j1kk{margin-bottom:8px;overflow:hidden;text-overflow:ellipsis;}</style><div class=\"css-d7j1kk\"><style data-emotion=\"css 17s97q8\">.css-17s97q8{font-size:12px;font-weight:600;font-style:normal;letter-spacing:-0.27px;line-height:19px;color:#001433;-webkit-text-decoration:none;text-decoration:none;}</style><a class=\"css-17s97q8\" href=\"https://wuzzuf.net/jobs/careers/Scopic Software-Egypt-101246\" rel=\"noreferrer\" target=\"_blank\">Scopic Software -</a> <style data-emotion=\"css 5wys0k\">.css-5wys0k{font-size:12px;font-weight:600;font-style:normal;letter-spacing:-0.27px;line-height:19px;color:#4D6182;}</style><span class=\"css-5wys0k\">Cairo, <!-- -->Egypt </span><style data-emotion=\"css 4c4ojb\">.css-4c4ojb{font-size:12px;font-weight:400;font-style:normal;letter-spacing:-0.27px;line-height:19px;color:#2C9266;}</style><div class=\"css-4c4ojb\">3 days<!-- --> ago</div></div></div><style data-emotion=\"css y4udm8\">.css-y4udm8{font-size:13px;font-weight:600;font-style:normal;letter-spacing:-0.3px;line-height:20px;color:#4D6182;}</style><div class=\"css-y4udm8\"><style data-emotion=\"css 1lh32fc\">.css-1lh32fc{display:-webkit-box;display:-webkit-flex;display:-ms-flexbox;display:flex;margin-bottom:8px;-webkit-align-items:center;-webkit-box-align:center;-ms-flex-align:center;align-items:center;-webkit-box-flex-wrap:wrap;-webkit-flex-wrap:wrap;-ms-flex-wrap:wrap;flex-wrap:wrap;}</style><div class=\"css-1lh32fc\"><style data-emotion=\"css n2jc4m\">.css-n2jc4m{display:-webkit-inline-box;display:-webkit-inline-flex;display:-ms-inline-flexbox;display:inline-flex;-webkit-align-items:center;-webkit-box-align:center;-ms-flex-align:center;align-items:center;-webkit-text-decoration:none;text-decoration:none;color:inherit;margin-bottom:4px;}</style><a class=\"css-n2jc4m\" href=\"/a/Full-Time-Jobs-in-Egypt\"><style data-emotion=\"css adtuo7\">.css-adtuo7{cursor:pointer;padding:0 4px;border-radius:4px;}</style><style data-emotion=\"css 1ve4b75\">.css-1ve4b75{font-size:12px;font-weight:600;display:-webkit-inline-box;display:-webkit-inline-flex;display:-ms-inline-flexbox;display:inline-flex;-webkit-align-items:center;-webkit-box-align:center;-ms-flex-align:center;align-items:center;min-height:20px;margin-right:4px;border-radius:2px;max-width:196px;white-space:nowrap;overflow:hidden;cursor:default;text-overflow:ellipsis;padding:2px 4px;background-color:#EBEDF0;color:#001433;cursor:pointer;padding:0 4px;border-radius:4px;}</style><span class=\"css-1ve4b75 eoyjyou0\">Full Time</span></a></div><div><a class=\"css-o171kl\" href=\"/a/Entry-Level-Jobs-in-Egypt\">Entry Level</a><a class=\"css-o171kl\" href=\"/a/IT-Software-Development-Jobs-in-Egypt\"> <!-- -->· <!-- -->IT/Software Development</a><a class=\"css-o171kl\" href=\"/a/Engineering-Telecom-Technology-Jobs-in-Egypt\"> <!-- -->· <!-- -->Engineering - Telecom/Technology</a><a class=\"css-o171kl\" href=\"/a/Engineering-Mechanical-Electrical-Jobs-in-Egypt\"> <!-- -->· <!-- -->Engineering - Mechanical/Electrical</a><style data-emotion=\"css 5x9pm1\">.css-5x9pm1{-webkit-text-decoration:none;text-decoration:none;color:inherit;max-width:calc(100vw / 2 - 32px);white-space:nowrap;overflow:hidden;text-overflow:ellipsis;display:-webkit-inline-box;display:-webkit-inline-flex;display:-ms-inline-flexbox;display:inline-flex;}</style><a class=\"css-5x9pm1\" href=\"/a/Computer-Science-Jobs-in-Egypt\"> <!-- -->· <!-- -->computer science</a><a class=\"css-5x9pm1\" href=\"/a/Information-Technology-It-Jobs-in-Egypt\"> <!-- -->· <!-- -->information technology (it)</a><a class=\"css-5x9pm1\" href=\"/a/Software-Development-Jobs-in-Egypt\"> <!-- -->· <!-- -->software development</a><a class=\"css-5x9pm1\" href=\"/a/Python-Jobs-in-Egypt\"> <!-- -->· <!-- -->python</a><a class=\"css-5x9pm1\" href=\"/a/Engineering-Jobs-in-Egypt\"> <!-- -->· <!-- -->engineering</a><a class=\"css-5x9pm1\" href=\"/a/Project-Management-Jobs-in-Egypt\"> <!-- -->· <!-- -->project management</a><a class=\"css-5x9pm1\" href=\"/a/Machine-Learning-Jobs-in-Egypt\"> <!-- -->· <!-- -->machine learning</a></div></div></div></div>"
            ]
          },
          "metadata": {},
          "execution_count": 6
        }
      ]
    },
    {
      "cell_type": "code",
      "source": [
        "print(table.prettify())"
      ],
      "metadata": {
        "colab": {
          "base_uri": "https://localhost:8080/"
        },
        "id": "I3OS4eTHAe86",
        "outputId": "92f279ce-6b81-4bbd-801d-342e3dbcfd68"
      },
      "execution_count": 7,
      "outputs": [
        {
          "output_type": "stream",
          "name": "stdout",
          "text": [
            "<div class=\"css-1gatmva e1v1l3u10\">\n",
            " <style data-emotion=\"css pkv5jc\">\n",
            "  .css-pkv5jc{position:relative;min-height:60px;}\n",
            " </style>\n",
            " <div class=\"css-pkv5jc\">\n",
            "  <a href=\"https://wuzzuf.net/jobs/careers/Scopic Software-Egypt-101246\" rel=\"noreferrer\" target=\"_blank\">\n",
            "   <style data-emotion=\"css 17095x3\">\n",
            "    .css-17095x3{position:absolute;right:0;top:0;width:60px;height:60px;object-fit:contain;object-position:center center;}\n",
            "   </style>\n",
            "  </a>\n",
            "  <style data-emotion=\"css laomuu\">\n",
            "   .css-laomuu{padding-right:60px;}\n",
            "  </style>\n",
            "  <div class=\"css-laomuu\">\n",
            "   <style data-emotion=\"css m604qf\">\n",
            "    .css-m604qf{font-size:16px;font-weight:600;font-style:normal;letter-spacing:-0.4px;line-height:24px;color:#0055D9;margin:0;}\n",
            "   </style>\n",
            "   <h2 class=\"css-m604qf\">\n",
            "    <style data-emotion=\"css o171kl\">\n",
            "     .css-o171kl{-webkit-text-decoration:none;text-decoration:none;color:inherit;}\n",
            "    </style>\n",
            "    <a class=\"css-o171kl\" href=\"https://wuzzuf.net/jobs/p/g/VZ0IBLJ8KXEz-Remote-Machine-LearningAI-Developer-Scopic-Software-Cairo-Egypt\" rel=\"noreferrer\" target=\"_blank\">\n",
            "     Remote Machine Learning/AI Developer\n",
            "    </a>\n",
            "   </h2>\n",
            "   <style data-emotion=\"css d7j1kk\">\n",
            "    .css-d7j1kk{margin-bottom:8px;overflow:hidden;text-overflow:ellipsis;}\n",
            "   </style>\n",
            "   <div class=\"css-d7j1kk\">\n",
            "    <style data-emotion=\"css 17s97q8\">\n",
            "     .css-17s97q8{font-size:12px;font-weight:600;font-style:normal;letter-spacing:-0.27px;line-height:19px;color:#001433;-webkit-text-decoration:none;text-decoration:none;}\n",
            "    </style>\n",
            "    <a class=\"css-17s97q8\" href=\"https://wuzzuf.net/jobs/careers/Scopic Software-Egypt-101246\" rel=\"noreferrer\" target=\"_blank\">\n",
            "     Scopic Software -\n",
            "    </a>\n",
            "    <style data-emotion=\"css 5wys0k\">\n",
            "     .css-5wys0k{font-size:12px;font-weight:600;font-style:normal;letter-spacing:-0.27px;line-height:19px;color:#4D6182;}\n",
            "    </style>\n",
            "    <span class=\"css-5wys0k\">\n",
            "     Cairo,\n",
            "     <!-- -->\n",
            "     Egypt\n",
            "    </span>\n",
            "    <style data-emotion=\"css 4c4ojb\">\n",
            "     .css-4c4ojb{font-size:12px;font-weight:400;font-style:normal;letter-spacing:-0.27px;line-height:19px;color:#2C9266;}\n",
            "    </style>\n",
            "    <div class=\"css-4c4ojb\">\n",
            "     3 days\n",
            "     <!-- -->\n",
            "     ago\n",
            "    </div>\n",
            "   </div>\n",
            "  </div>\n",
            "  <style data-emotion=\"css y4udm8\">\n",
            "   .css-y4udm8{font-size:13px;font-weight:600;font-style:normal;letter-spacing:-0.3px;line-height:20px;color:#4D6182;}\n",
            "  </style>\n",
            "  <div class=\"css-y4udm8\">\n",
            "   <style data-emotion=\"css 1lh32fc\">\n",
            "    .css-1lh32fc{display:-webkit-box;display:-webkit-flex;display:-ms-flexbox;display:flex;margin-bottom:8px;-webkit-align-items:center;-webkit-box-align:center;-ms-flex-align:center;align-items:center;-webkit-box-flex-wrap:wrap;-webkit-flex-wrap:wrap;-ms-flex-wrap:wrap;flex-wrap:wrap;}\n",
            "   </style>\n",
            "   <div class=\"css-1lh32fc\">\n",
            "    <style data-emotion=\"css n2jc4m\">\n",
            "     .css-n2jc4m{display:-webkit-inline-box;display:-webkit-inline-flex;display:-ms-inline-flexbox;display:inline-flex;-webkit-align-items:center;-webkit-box-align:center;-ms-flex-align:center;align-items:center;-webkit-text-decoration:none;text-decoration:none;color:inherit;margin-bottom:4px;}\n",
            "    </style>\n",
            "    <a class=\"css-n2jc4m\" href=\"/a/Full-Time-Jobs-in-Egypt\">\n",
            "     <style data-emotion=\"css adtuo7\">\n",
            "      .css-adtuo7{cursor:pointer;padding:0 4px;border-radius:4px;}\n",
            "     </style>\n",
            "     <style data-emotion=\"css 1ve4b75\">\n",
            "      .css-1ve4b75{font-size:12px;font-weight:600;display:-webkit-inline-box;display:-webkit-inline-flex;display:-ms-inline-flexbox;display:inline-flex;-webkit-align-items:center;-webkit-box-align:center;-ms-flex-align:center;align-items:center;min-height:20px;margin-right:4px;border-radius:2px;max-width:196px;white-space:nowrap;overflow:hidden;cursor:default;text-overflow:ellipsis;padding:2px 4px;background-color:#EBEDF0;color:#001433;cursor:pointer;padding:0 4px;border-radius:4px;}\n",
            "     </style>\n",
            "     <span class=\"css-1ve4b75 eoyjyou0\">\n",
            "      Full Time\n",
            "     </span>\n",
            "    </a>\n",
            "   </div>\n",
            "   <div>\n",
            "    <a class=\"css-o171kl\" href=\"/a/Entry-Level-Jobs-in-Egypt\">\n",
            "     Entry Level\n",
            "    </a>\n",
            "    <a class=\"css-o171kl\" href=\"/a/IT-Software-Development-Jobs-in-Egypt\">\n",
            "     <!-- -->\n",
            "     ·\n",
            "     <!-- -->\n",
            "     IT/Software Development\n",
            "    </a>\n",
            "    <a class=\"css-o171kl\" href=\"/a/Engineering-Telecom-Technology-Jobs-in-Egypt\">\n",
            "     <!-- -->\n",
            "     ·\n",
            "     <!-- -->\n",
            "     Engineering - Telecom/Technology\n",
            "    </a>\n",
            "    <a class=\"css-o171kl\" href=\"/a/Engineering-Mechanical-Electrical-Jobs-in-Egypt\">\n",
            "     <!-- -->\n",
            "     ·\n",
            "     <!-- -->\n",
            "     Engineering - Mechanical/Electrical\n",
            "    </a>\n",
            "    <style data-emotion=\"css 5x9pm1\">\n",
            "     .css-5x9pm1{-webkit-text-decoration:none;text-decoration:none;color:inherit;max-width:calc(100vw / 2 - 32px);white-space:nowrap;overflow:hidden;text-overflow:ellipsis;display:-webkit-inline-box;display:-webkit-inline-flex;display:-ms-inline-flexbox;display:inline-flex;}\n",
            "    </style>\n",
            "    <a class=\"css-5x9pm1\" href=\"/a/Computer-Science-Jobs-in-Egypt\">\n",
            "     <!-- -->\n",
            "     ·\n",
            "     <!-- -->\n",
            "     computer science\n",
            "    </a>\n",
            "    <a class=\"css-5x9pm1\" href=\"/a/Information-Technology-It-Jobs-in-Egypt\">\n",
            "     <!-- -->\n",
            "     ·\n",
            "     <!-- -->\n",
            "     information technology (it)\n",
            "    </a>\n",
            "    <a class=\"css-5x9pm1\" href=\"/a/Software-Development-Jobs-in-Egypt\">\n",
            "     <!-- -->\n",
            "     ·\n",
            "     <!-- -->\n",
            "     software development\n",
            "    </a>\n",
            "    <a class=\"css-5x9pm1\" href=\"/a/Python-Jobs-in-Egypt\">\n",
            "     <!-- -->\n",
            "     ·\n",
            "     <!-- -->\n",
            "     python\n",
            "    </a>\n",
            "    <a class=\"css-5x9pm1\" href=\"/a/Engineering-Jobs-in-Egypt\">\n",
            "     <!-- -->\n",
            "     ·\n",
            "     <!-- -->\n",
            "     engineering\n",
            "    </a>\n",
            "    <a class=\"css-5x9pm1\" href=\"/a/Project-Management-Jobs-in-Egypt\">\n",
            "     <!-- -->\n",
            "     ·\n",
            "     <!-- -->\n",
            "     project management\n",
            "    </a>\n",
            "    <a class=\"css-5x9pm1\" href=\"/a/Machine-Learning-Jobs-in-Egypt\">\n",
            "     <!-- -->\n",
            "     ·\n",
            "     <!-- -->\n",
            "     machine learning\n",
            "    </a>\n",
            "   </div>\n",
            "  </div>\n",
            " </div>\n",
            "</div>\n",
            "\n"
          ]
        }
      ]
    },
    {
      "cell_type": "code",
      "source": [
        "title=website.find(\"a\",class_=\"css-o171kl\")\n",
        "title.text"
      ],
      "metadata": {
        "id": "o3JUKUhvAhhg",
        "colab": {
          "base_uri": "https://localhost:8080/",
          "height": 35
        },
        "outputId": "0b0a4102-d1a1-4b07-fe6f-80436b5d94e9"
      },
      "execution_count": 9,
      "outputs": [
        {
          "output_type": "execute_result",
          "data": {
            "text/plain": [
              "'Remote Machine Learning/AI Developer'"
            ],
            "application/vnd.google.colaboratory.intrinsic+json": {
              "type": "string"
            }
          },
          "metadata": {},
          "execution_count": 9
        }
      ]
    },
    {
      "cell_type": "code",
      "source": [
        "companyname=website.find(\"a\",class_=\"css-17s97q8\")\n",
        "companyname.text"
      ],
      "metadata": {
        "colab": {
          "base_uri": "https://localhost:8080/",
          "height": 35
        },
        "id": "h-2jCLTjFocD",
        "outputId": "bedeb64c-a629-4be3-e372-90b7d2211088"
      },
      "execution_count": 11,
      "outputs": [
        {
          "output_type": "execute_result",
          "data": {
            "text/plain": [
              "'Scopic Software -'"
            ],
            "application/vnd.google.colaboratory.intrinsic+json": {
              "type": "string"
            }
          },
          "metadata": {},
          "execution_count": 11
        }
      ]
    },
    {
      "cell_type": "code",
      "source": [
        "country=website.find(\"span\",class_=\"css-5wys0k\")\n",
        "country.text"
      ],
      "metadata": {
        "colab": {
          "base_uri": "https://localhost:8080/",
          "height": 35
        },
        "id": "bjPUyBVoL8fy",
        "outputId": "3b51d303-c367-44bc-b7e8-eab6b047576c"
      },
      "execution_count": 13,
      "outputs": [
        {
          "output_type": "execute_result",
          "data": {
            "text/plain": [
              "'Cairo, Egypt '"
            ],
            "application/vnd.google.colaboratory.intrinsic+json": {
              "type": "string"
            }
          },
          "metadata": {},
          "execution_count": 13
        }
      ]
    },
    {
      "cell_type": "code",
      "source": [
        "time=website.find(\"span\",class_=\"css-1ve4b75 eoyjyou0\")\n",
        "time.text"
      ],
      "metadata": {
        "colab": {
          "base_uri": "https://localhost:8080/",
          "height": 35
        },
        "id": "ABB3C4MfML-z",
        "outputId": "65acb819-2ddb-4806-c302-49765d8dfe8f"
      },
      "execution_count": 19,
      "outputs": [
        {
          "output_type": "execute_result",
          "data": {
            "text/plain": [
              "'Full Time'"
            ],
            "application/vnd.google.colaboratory.intrinsic+json": {
              "type": "string"
            }
          },
          "metadata": {},
          "execution_count": 19
        }
      ]
    },
    {
      "cell_type": "code",
      "source": [
        "jobs=website.find_all(\"div\",class_=\"css-1gatmva e1v1l3u10\")\n",
        "for job in jobs:\n",
        "  title=job.find(\"a\",class_=\"css-o171kl\").text\n",
        "  companyname=job.find(\"a\",class_=\"css-17s97q8\").text\n",
        "  country=job.find(\"span\",class_=\"css-5wys0k\").text\n",
        "  time=job.find(\"span\",class_=\"css-1ve4b75 eoyjyou0\").text\n",
        "  print(title,companyname,country,time)\n"
      ],
      "metadata": {
        "colab": {
          "base_uri": "https://localhost:8080/"
        },
        "id": "x5imp00BORGt",
        "outputId": "c045bcfe-01e2-4ef1-9d58-21247a047274"
      },
      "execution_count": 22,
      "outputs": [
        {
          "output_type": "stream",
          "name": "stdout",
          "text": [
            "Remote Machine Learning/AI Developer Scopic Software - Cairo, Egypt  Full Time\n",
            "Data Annotator for AI Models | Arabic (Egypt) and English | Remote, Part Time, Work from Home RWS Group - Cairo, Egypt  Part Time\n",
            "Online Rater for AI Models | Arabic (Egypt) and English | Remote, Part Time, Work from Home RWS Group - Cairo, Egypt  Part Time\n",
            "AI Training for Egyptian Arabic Writers Remotasks - Cairo, Egypt  Freelance / Project\n",
            "AI Software Engineer, Skyvera (Remote) - $200,000/year USD Crossover - Cairo, Egypt  Full Time\n",
            "AI Developer, Skyvera (Remote) - $200,000/year USD Crossover - Cairo, Egypt  Full Time\n",
            "Native Language AI Trainer, Saudi Arabic Remotasks - Riyadh, Saudi Arabia  Full Time\n",
            "Virtual Technology and AI Support Officer SEMARTI - Jeddah, Saudi Arabia  Part Time\n",
            "AI Test Engineer Wakeb Data - Mohandessin, Giza, Egypt  Full Time\n",
            "AI-Augmented Software Developer, Skyvera (Remote) - $200,000/year USD Crossover - Dubai, United Arab Emirates  Full Time\n",
            "AI Leader, Energy & Utilities, MEA Oracle - Dubai, United Arab Emirates  Full Time\n",
            "Full-stack Software Engineer (AI Applications) CharCentric - Cairo, Egypt  Freelance / Project\n",
            "Content Writer - Digitalization and AI Specialist Kloepfel Middle East - Dubai, United Arab Emirates  Full Time\n",
            "AI & Data Science Python Developer Intern Sequel Solutions - Cairo, Egypt  Internship\n",
            "AI/ Machine Learning Sr. Engineer MIGRATIONIT - Cairo, Egypt  Full Time\n"
          ]
        }
      ]
    },
    {
      "cell_type": "code",
      "source": [
        "import csv"
      ],
      "metadata": {
        "id": "AALnA4bcM1j0"
      },
      "execution_count": 16,
      "outputs": []
    },
    {
      "cell_type": "code",
      "source": [
        "csvfile=open(\"wazzuf.csv\",'w',encoding='utf-8')"
      ],
      "metadata": {
        "id": "dpSAHLDMNOJC"
      },
      "execution_count": 17,
      "outputs": []
    },
    {
      "cell_type": "code",
      "source": [
        "writer=csv.writer(csvfile)"
      ],
      "metadata": {
        "id": "ZNbC6sMENi1y"
      },
      "execution_count": 26,
      "outputs": []
    },
    {
      "cell_type": "code",
      "source": [
        "writer.writerow([\"title\",\"company\",\"country\",\"time\"])\n",
        "for job in jobs:\n",
        "  title=job.find(\"a\",class_=\"css-o171kl\").text\n",
        "  companyname=job.find(\"a\",class_=\"css-17s97q8\").text\n",
        "  country=job.find(\"span\",class_=\"css-5wys0k\").text\n",
        "  time=job.find(\"span\",class_=\"css-1ve4b75 eoyjyou0\").text\n",
        "  writer.writerow([title,companyname,country,time])\n",
        "csvfile.close()"
      ],
      "metadata": {
        "id": "rPXkop68NxO7"
      },
      "execution_count": 28,
      "outputs": []
    },
    {
      "cell_type": "code",
      "source": [],
      "metadata": {
        "id": "9L59aBEkPaY0"
      },
      "execution_count": null,
      "outputs": []
    }
  ]
}